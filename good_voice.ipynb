{
 "cells": [
  {
   "cell_type": "code",
   "execution_count": 1,
   "id": "98280f1e",
   "metadata": {},
   "outputs": [
    {
     "name": "stdout",
     "output_type": "stream",
     "text": [
      "Requirement already satisfied: gtts in d:\\work\\company project\\crystal group\\text_speech\\venv\\lib\\site-packages (2.5.4)\n",
      "Requirement already satisfied: pydub in d:\\work\\company project\\crystal group\\text_speech\\venv\\lib\\site-packages (0.25.1)\n",
      "Requirement already satisfied: SpeechRecognition in d:\\work\\company project\\crystal group\\text_speech\\venv\\lib\\site-packages (3.14.3)\n",
      "Requirement already satisfied: google-generativeai in d:\\work\\company project\\crystal group\\text_speech\\venv\\lib\\site-packages (0.8.5)\n",
      "Requirement already satisfied: python-dotenv in d:\\work\\company project\\crystal group\\text_speech\\venv\\lib\\site-packages (1.1.1)\n",
      "Requirement already satisfied: requests<3,>=2.27 in d:\\work\\company project\\crystal group\\text_speech\\venv\\lib\\site-packages (from gtts) (2.32.4)\n",
      "Requirement already satisfied: click<8.2,>=7.1 in d:\\work\\company project\\crystal group\\text_speech\\venv\\lib\\site-packages (from gtts) (8.1.8)\n",
      "Requirement already satisfied: colorama in d:\\work\\company project\\crystal group\\text_speech\\venv\\lib\\site-packages (from click<8.2,>=7.1->gtts) (0.4.6)\n",
      "Requirement already satisfied: charset_normalizer<4,>=2 in d:\\work\\company project\\crystal group\\text_speech\\venv\\lib\\site-packages (from requests<3,>=2.27->gtts) (3.4.2)\n",
      "Requirement already satisfied: idna<4,>=2.5 in d:\\work\\company project\\crystal group\\text_speech\\venv\\lib\\site-packages (from requests<3,>=2.27->gtts) (3.10)\n",
      "Requirement already satisfied: urllib3<3,>=1.21.1 in d:\\work\\company project\\crystal group\\text_speech\\venv\\lib\\site-packages (from requests<3,>=2.27->gtts) (2.5.0)\n",
      "Requirement already satisfied: certifi>=2017.4.17 in d:\\work\\company project\\crystal group\\text_speech\\venv\\lib\\site-packages (from requests<3,>=2.27->gtts) (2025.6.15)\n",
      "Requirement already satisfied: typing-extensions in d:\\work\\company project\\crystal group\\text_speech\\venv\\lib\\site-packages (from SpeechRecognition) (4.14.0)\n",
      "Requirement already satisfied: standard-aifc in d:\\work\\company project\\crystal group\\text_speech\\venv\\lib\\site-packages (from SpeechRecognition) (3.13.0)\n",
      "Requirement already satisfied: audioop-lts in d:\\work\\company project\\crystal group\\text_speech\\venv\\lib\\site-packages (from SpeechRecognition) (0.2.1)\n",
      "Requirement already satisfied: google-ai-generativelanguage==0.6.15 in d:\\work\\company project\\crystal group\\text_speech\\venv\\lib\\site-packages (from google-generativeai) (0.6.15)\n",
      "Requirement already satisfied: google-api-core in d:\\work\\company project\\crystal group\\text_speech\\venv\\lib\\site-packages (from google-generativeai) (2.25.1)\n",
      "Requirement already satisfied: google-api-python-client in d:\\work\\company project\\crystal group\\text_speech\\venv\\lib\\site-packages (from google-generativeai) (2.174.0)\n",
      "Requirement already satisfied: google-auth>=2.15.0 in d:\\work\\company project\\crystal group\\text_speech\\venv\\lib\\site-packages (from google-generativeai) (2.40.3)\n",
      "Requirement already satisfied: protobuf in d:\\work\\company project\\crystal group\\text_speech\\venv\\lib\\site-packages (from google-generativeai) (5.29.5)\n",
      "Requirement already satisfied: pydantic in d:\\work\\company project\\crystal group\\text_speech\\venv\\lib\\site-packages (from google-generativeai) (2.11.7)\n",
      "Requirement already satisfied: tqdm in d:\\work\\company project\\crystal group\\text_speech\\venv\\lib\\site-packages (from google-generativeai) (4.67.1)\n",
      "Requirement already satisfied: proto-plus<2.0.0dev,>=1.22.3 in d:\\work\\company project\\crystal group\\text_speech\\venv\\lib\\site-packages (from google-ai-generativelanguage==0.6.15->google-generativeai) (1.26.1)\n",
      "Requirement already satisfied: googleapis-common-protos<2.0.0,>=1.56.2 in d:\\work\\company project\\crystal group\\text_speech\\venv\\lib\\site-packages (from google-api-core->google-generativeai) (1.70.0)\n",
      "Requirement already satisfied: grpcio<2.0.0,>=1.33.2 in d:\\work\\company project\\crystal group\\text_speech\\venv\\lib\\site-packages (from google-api-core[grpc]!=2.0.*,!=2.1.*,!=2.10.*,!=2.2.*,!=2.3.*,!=2.4.*,!=2.5.*,!=2.6.*,!=2.7.*,!=2.8.*,!=2.9.*,<3.0.0dev,>=1.34.1->google-ai-generativelanguage==0.6.15->google-generativeai) (1.73.1)\n",
      "Requirement already satisfied: grpcio-status<2.0.0,>=1.33.2 in d:\\work\\company project\\crystal group\\text_speech\\venv\\lib\\site-packages (from google-api-core[grpc]!=2.0.*,!=2.1.*,!=2.10.*,!=2.2.*,!=2.3.*,!=2.4.*,!=2.5.*,!=2.6.*,!=2.7.*,!=2.8.*,!=2.9.*,<3.0.0dev,>=1.34.1->google-ai-generativelanguage==0.6.15->google-generativeai) (1.71.2)\n",
      "Requirement already satisfied: cachetools<6.0,>=2.0.0 in d:\\work\\company project\\crystal group\\text_speech\\venv\\lib\\site-packages (from google-auth>=2.15.0->google-generativeai) (5.5.2)\n",
      "Requirement already satisfied: pyasn1-modules>=0.2.1 in d:\\work\\company project\\crystal group\\text_speech\\venv\\lib\\site-packages (from google-auth>=2.15.0->google-generativeai) (0.4.2)\n",
      "Requirement already satisfied: rsa<5,>=3.1.4 in d:\\work\\company project\\crystal group\\text_speech\\venv\\lib\\site-packages (from google-auth>=2.15.0->google-generativeai) (4.9.1)\n",
      "Requirement already satisfied: pyasn1>=0.1.3 in d:\\work\\company project\\crystal group\\text_speech\\venv\\lib\\site-packages (from rsa<5,>=3.1.4->google-auth>=2.15.0->google-generativeai) (0.6.1)\n",
      "Requirement already satisfied: httplib2<1.0.0,>=0.19.0 in d:\\work\\company project\\crystal group\\text_speech\\venv\\lib\\site-packages (from google-api-python-client->google-generativeai) (0.22.0)\n",
      "Requirement already satisfied: google-auth-httplib2<1.0.0,>=0.2.0 in d:\\work\\company project\\crystal group\\text_speech\\venv\\lib\\site-packages (from google-api-python-client->google-generativeai) (0.2.0)\n",
      "Requirement already satisfied: uritemplate<5,>=3.0.1 in d:\\work\\company project\\crystal group\\text_speech\\venv\\lib\\site-packages (from google-api-python-client->google-generativeai) (4.2.0)\n",
      "Requirement already satisfied: pyparsing!=3.0.0,!=3.0.1,!=3.0.2,!=3.0.3,<4,>=2.4.2 in d:\\work\\company project\\crystal group\\text_speech\\venv\\lib\\site-packages (from httplib2<1.0.0,>=0.19.0->google-api-python-client->google-generativeai) (3.2.3)\n",
      "Requirement already satisfied: annotated-types>=0.6.0 in d:\\work\\company project\\crystal group\\text_speech\\venv\\lib\\site-packages (from pydantic->google-generativeai) (0.7.0)\n",
      "Requirement already satisfied: pydantic-core==2.33.2 in d:\\work\\company project\\crystal group\\text_speech\\venv\\lib\\site-packages (from pydantic->google-generativeai) (2.33.2)\n",
      "Requirement already satisfied: typing-inspection>=0.4.0 in d:\\work\\company project\\crystal group\\text_speech\\venv\\lib\\site-packages (from pydantic->google-generativeai) (0.4.1)\n",
      "Requirement already satisfied: standard-chunk in d:\\work\\company project\\crystal group\\text_speech\\venv\\lib\\site-packages (from standard-aifc->SpeechRecognition) (3.13.0)\n"
     ]
    }
   ],
   "source": [
    "! pip install gtts pydub SpeechRecognition google-generativeai python-dotenv"
   ]
  },
  {
   "cell_type": "code",
   "execution_count": 2,
   "id": "10e4e87b",
   "metadata": {},
   "outputs": [
    {
     "name": "stderr",
     "output_type": "stream",
     "text": [
      "d:\\Work\\company project\\Crystal Group\\text_speech\\venv\\Lib\\site-packages\\tqdm\\auto.py:21: TqdmWarning: IProgress not found. Please update jupyter and ipywidgets. See https://ipywidgets.readthedocs.io/en/stable/user_install.html\n",
      "  from .autonotebook import tqdm as notebook_tqdm\n"
     ]
    }
   ],
   "source": [
    "import os\n",
    "import json\n",
    "import re\n",
    "import time\n",
    "import threading\n",
    "import speech_recognition as sr\n",
    "from gtts import gTTS\n",
    "from pydub import AudioSegment\n",
    "from pydub.playback import play\n",
    "import google.generativeai as genai\n",
    "from dotenv import load_dotenv\n",
    "from datetime import datetime\n",
    "import tempfile\n",
    "\n",
    "AudioSegment.converter = r\"C:\\ffmpeg\\bin\\ffmpeg.exe\"\n",
    "AudioSegment.ffprobe = r\"C:\\ffmpeg\\bin\\ffprobe.exe\"\n"
   ]
  },
  {
   "cell_type": "code",
   "execution_count": 10,
   "id": "735b9f69",
   "metadata": {},
   "outputs": [],
   "source": [
    "COMPANY_CONTEXT = \"\"\"\n",
    "\n",
    "Company Overview:\n",
    "- Name: Crystal Group (The Cold Chain Solutions Company)\n",
    "- Industry: Transportation, Logistics, Supply Chain, and Storage\n",
    "- Headquarters: Mumbai, Maharashtra, India\n",
    "- Followers: 43,000+\n",
    "- Employees: 201–500\n",
    "- Founded: 1962\n",
    "- Website: crystalgroup.in\n",
    "\n",
    "Mission: Safeguard the quality of temperature-sensitive goods with care and dedication, enabling clients to succeed at every stage.\n",
    "Vision: To be the most trusted leader in cold chain logistics, empowering businesses with seamless, reliable services and peace of mind.\n",
    "\n",
    "Core Services:\n",
    "- Cold Storage Warehousing: Advanced warehouses with temperature control (-25°C to +25°C), real-time monitoring, and hygiene protocols.\n",
    "- Portable Cold Storage: Flexible, pay-per-day portable cold storage containers for rent or sale.\n",
    "- Refrigerated Transportation: Fleet of over 200 reefer trucks for pan-India delivery of temperature-sensitive goods.\n",
    "- Supply Chain Solutions: End-to-end logistics, including last-mile delivery, distribution hubs, and project cargo.\n",
    "- Value-Added Services: Inventory management, real-time tracking, repackaging, sorting, and labeling.\n",
    "- Dry Containers: Secure, weather-resistant storage for non-temperature-sensitive goods.\n",
    "- Specialized Storage: Solutions for pharmaceuticals, food, floriculture, chemicals, and more.\n",
    "\n",
    "Key Features:\n",
    "- Temperature Range: -25°C to +25°C (some containers up to -30°C to +30°C)\n",
    "- Container Sizes: 10ft, 20ft, 40ft (with high-cube and multi-temperature options)\n",
    "- Advanced Technology: Mobile pallet racking, WMS software, remote monitoring, humidity control, and multi-zone temperature settings\n",
    "- Certifications: ISO 9001-2008 certified\n",
    "- Locations: Mumbai (HQ), Kolkata, Bhubaneswar, Howrah\n",
    "- Clientele: Food & beverage, pharmaceuticals, agriculture, floriculture, chemicals, and more.\n",
    "\n",
    "Frequently Asked Questions (FAQs) and Topics:\n",
    "- Storage Capabilities: What products can you store? Do you handle both fresh and frozen goods?\n",
    "- Temperature Control: What temperature ranges do you offer? Can you customize storage temperatures?\n",
    "- Container Sizes & Capacity: What sizes of containers are available? How much can each container hold?\n",
    "- Rental & Purchase Options: Can I rent or buy a portable cold storage container? What are the terms?\n",
    "- Transportation Services: Do you provide refrigerated transport? What is your delivery coverage?\n",
    "- Inventory Management: How do you track and monitor inventory? Is real-time tracking available?\n",
    "- Security & Safety: What security measures are in place? Are you compliant with food/pharma safety standards?\n",
    "- Pricing & Contracts: What are your rates? Do you offer long-term or short-term contracts?\n",
    "- Value-Added Services: Do you offer labeling, kitting, or other value-added services?\n",
    "- Power Backup & Reliability: Do you have backup power systems to prevent spoilage?\n",
    "- Regulatory Compliance: Are you certified for food safety (HACCP, FSMA, GMP, etc.)?\n",
    "- Site Visits: Can I schedule a visit to your facility?\n",
    "- Support & Response Time: How quickly can I get a response or support?\n",
    "\n",
    "Customer Segments:\n",
    "- Food & Beverage (producers, distributors, retailers)\n",
    "- Pharmaceuticals & Healthcare (vaccines, medicines, blood)\n",
    "- Agriculture & Horticulture (farmers, exporters, floriculture)\n",
    "- Hospitality & Catering (hotels, restaurants)\n",
    "- E-commerce & Retail (grocery, meal delivery)\n",
    "- Chemical & Industrial (temperature-sensitive chemicals)\n",
    "\n",
    "Always greet the customer, clarify their needs, and provide clear, concise, and helpful answers. If you do not know the answer, offer to connect the customer with a human expert.\n",
    "\"\"\""
   ]
  },
  {
   "cell_type": "code",
   "execution_count": 11,
   "id": "abfc79ab",
   "metadata": {},
   "outputs": [],
   "source": [
    "# Load environment variables\n",
    "load_dotenv()\n",
    "api_key = os.getenv(\"GEMINI_API_KEY\") or os.getenv(\"GOOGLE_API_KEY\")\n",
    "genai.configure(api_key=api_key)\n",
    "model = genai.GenerativeModel(\"gemma-3-27b-it\")\n",
    "\n",
    "# # COMPANY_CONTEXT should be defined here as a string\n",
    "# COMPANY_CONTEXT = \"\"\"Paste your full company context here.\"\"\"\n",
    "\n",
    "HISTORY_FILE = \"freddy_history.json\"\n"
   ]
  },
  {
   "cell_type": "code",
   "execution_count": 5,
   "id": "ab141a16",
   "metadata": {},
   "outputs": [],
   "source": [
    "def load_history():\n",
    "    if os.path.exists(HISTORY_FILE):\n",
    "        with open(HISTORY_FILE, \"r\", encoding=\"utf-8\") as f:\n",
    "            return json.load(f)\n",
    "    return []\n",
    "\n",
    "def save_history(history):\n",
    "    with open(HISTORY_FILE, \"w\", encoding=\"utf-8\") as f:\n",
    "        json.dump(history, f)\n",
    "\n",
    "history = load_history()\n"
   ]
  },
  {
   "cell_type": "code",
   "execution_count": 6,
   "id": "035788d9",
   "metadata": {},
   "outputs": [],
   "source": [
    "def clean_text(text):\n",
    "    return re.sub(r'[*_`]', '', text)\n"
   ]
  },
  {
   "cell_type": "code",
   "execution_count": 7,
   "id": "30340d69",
   "metadata": {},
   "outputs": [],
   "source": [
    "def speak(text):\n",
    "    tts = gTTS(text=text, lang='en', slow=False)\n",
    "    with tempfile.NamedTemporaryFile(delete=False, suffix='.mp3') as fp:\n",
    "        filename = fp.name\n",
    "    tts.save(filename)\n",
    "    audio = AudioSegment.from_mp3(filename)\n",
    "    play(audio)\n",
    "    os.remove(filename)\n"
   ]
  },
  {
   "cell_type": "code",
   "execution_count": 8,
   "id": "2a276156",
   "metadata": {},
   "outputs": [],
   "source": [
    "def get_freddy_answer(question):\n",
    "    # Add the current question to history\n",
    "    history.append({\n",
    "        \"timestamp\": datetime.utcnow().isoformat() + \"Z\",\n",
    "        \"role\": \"user\", \n",
    "        \"content\": question\n",
    "    })\n",
    "    # Build the prompt with history for context\n",
    "    history_prompt = \"\\n\".join(\n",
    "        [f\"User: {item['content']}\" if item['role'] == \"user\" else f\"Freddy: {item['content']}\" for item in history]\n",
    "    )\n",
    "    prompt = (\n",
    "        f\"{COMPANY_CONTEXT}\\n\"\n",
    "        f\"Conversation so far:\\n{history_prompt}\\n\"\n",
    "        f\"Customer question: {question}\\n\"\n",
    "        \"As Freddy, always provide a direct, friendly, and concise answer using the company information above. \"\n",
    "        \"Maintain a professional tone—do not use emojis or informal symbols. Only ask for clarification if the question is unclear. \"\n",
    "        \"Keep your answer under 200 characters. If unsure, offer to connect them to a human expert.\"\n",
    "    )\n",
    "    response = model.generate_content(prompt)\n",
    "    answer = response.text.strip()\n",
    "    # Add Freddy's answer to history\n",
    "    history.append({\n",
    "        \"timestamp\": datetime.utcnow().isoformat() + \"Z\",\n",
    "        \"role\": \"assistant\",\n",
    "        \"content\": answer\n",
    "    })\n",
    "    save_history(history)\n",
    "    return answer\n"
   ]
  },
  {
   "cell_type": "code",
   "execution_count": 9,
   "id": "8d26d1c2",
   "metadata": {},
   "outputs": [
    {
     "name": "stdout",
     "output_type": "stream",
     "text": [
      "Hello, I am Freddy. How can I help you today?\n",
      "\n",
      "Freddy Voice Assistant (press Ctrl+C to stop)\n",
      "\n",
      "Listening...\n",
      "Recognizing...\n",
      "question: what does this crystal group do\n"
     ]
    },
    {
     "name": "stderr",
     "output_type": "stream",
     "text": [
      "C:\\Users\\preet\\AppData\\Local\\Temp\\ipykernel_6028\\1344146692.py:4: DeprecationWarning: datetime.datetime.utcnow() is deprecated and scheduled for removal in a future version. Use timezone-aware objects to represent datetimes in UTC: datetime.datetime.now(datetime.UTC).\n",
      "  \"timestamp\": datetime.utcnow().isoformat() + \"Z\",\n",
      "C:\\Users\\preet\\AppData\\Local\\Temp\\ipykernel_6028\\1344146692.py:24: DeprecationWarning: datetime.datetime.utcnow() is deprecated and scheduled for removal in a future version. Use timezone-aware objects to represent datetimes in UTC: datetime.datetime.now(datetime.UTC).\n",
      "  \"timestamp\": datetime.utcnow().isoformat() + \"Z\",\n"
     ]
    },
    {
     "name": "stdout",
     "output_type": "stream",
     "text": [
      "bot answer: Hi there! Crystal Group provides comprehensive cold chain logistics: storage, refrigerated transport, and supply chain management for temperature-sensitive goods.\n",
      "\n",
      "Listening...\n",
      "Recognizing...\n",
      "question: headquarter\n"
     ]
    },
    {
     "name": "stderr",
     "output_type": "stream",
     "text": [
      "C:\\Users\\preet\\AppData\\Local\\Temp\\ipykernel_6028\\1344146692.py:4: DeprecationWarning: datetime.datetime.utcnow() is deprecated and scheduled for removal in a future version. Use timezone-aware objects to represent datetimes in UTC: datetime.datetime.now(datetime.UTC).\n",
      "  \"timestamp\": datetime.utcnow().isoformat() + \"Z\",\n",
      "C:\\Users\\preet\\AppData\\Local\\Temp\\ipykernel_6028\\1344146692.py:24: DeprecationWarning: datetime.datetime.utcnow() is deprecated and scheduled for removal in a future version. Use timezone-aware objects to represent datetimes in UTC: datetime.datetime.now(datetime.UTC).\n",
      "  \"timestamp\": datetime.utcnow().isoformat() + \"Z\",\n"
     ]
    },
    {
     "name": "stdout",
     "output_type": "stream",
     "text": [
      "bot answer: Hi there! Crystal Group’s headquarters are located in Mumbai, Maharashtra, India.\n",
      "\n",
      "Listening...\n",
      "Recognizing...\n",
      "question: other centres of this company\n"
     ]
    },
    {
     "name": "stderr",
     "output_type": "stream",
     "text": [
      "C:\\Users\\preet\\AppData\\Local\\Temp\\ipykernel_6028\\1344146692.py:4: DeprecationWarning: datetime.datetime.utcnow() is deprecated and scheduled for removal in a future version. Use timezone-aware objects to represent datetimes in UTC: datetime.datetime.now(datetime.UTC).\n",
      "  \"timestamp\": datetime.utcnow().isoformat() + \"Z\",\n",
      "C:\\Users\\preet\\AppData\\Local\\Temp\\ipykernel_6028\\1344146692.py:24: DeprecationWarning: datetime.datetime.utcnow() is deprecated and scheduled for removal in a future version. Use timezone-aware objects to represent datetimes in UTC: datetime.datetime.now(datetime.UTC).\n",
      "  \"timestamp\": datetime.utcnow().isoformat() + \"Z\",\n"
     ]
    },
    {
     "name": "stdout",
     "output_type": "stream",
     "text": [
      "bot answer: Hi there! Besides our headquarters in Mumbai, we have centres in Kolkata, Bhubaneswar, and Howrah.\n",
      "\n",
      "Listening...\n",
      "Recognizing...\n",
      "question: you can stop\n"
     ]
    },
    {
     "name": "stderr",
     "output_type": "stream",
     "text": [
      "C:\\Users\\preet\\AppData\\Local\\Temp\\ipykernel_6028\\1344146692.py:4: DeprecationWarning: datetime.datetime.utcnow() is deprecated and scheduled for removal in a future version. Use timezone-aware objects to represent datetimes in UTC: datetime.datetime.now(datetime.UTC).\n",
      "  \"timestamp\": datetime.utcnow().isoformat() + \"Z\",\n",
      "C:\\Users\\preet\\AppData\\Local\\Temp\\ipykernel_6028\\1344146692.py:24: DeprecationWarning: datetime.datetime.utcnow() is deprecated and scheduled for removal in a future version. Use timezone-aware objects to represent datetimes in UTC: datetime.datetime.now(datetime.UTC).\n",
      "  \"timestamp\": datetime.utcnow().isoformat() + \"Z\",\n"
     ]
    },
    {
     "name": "stdout",
     "output_type": "stream",
     "text": [
      "bot answer: Okay, understood.\n",
      "\n",
      "You can stop.\n",
      "\n",
      "Is there anything else I can help you with today?\n",
      "\n",
      "Listening...\n",
      "Recognizing...\n",
      "Could not recognize speech: \n",
      "\n",
      "Listening...\n",
      "Recognizing...\n",
      "Could not recognize speech: \n",
      "\n",
      "Listening...\n",
      "\n",
      "Exiting Freddy voice assistant.\n"
     ]
    }
   ],
   "source": [
    "recognizer = sr.Recognizer()\n",
    "greeting = \"Hello, I am Freddy. How can I help you today?\"\n",
    "print(greeting)\n",
    "speak(greeting)\n",
    "\n",
    "print(\"\\nFreddy Voice Assistant (press Ctrl+C to stop)\")\n",
    "while True:\n",
    "    try:\n",
    "        with sr.Microphone() as source:\n",
    "            print(\"\\nListening...\")\n",
    "            recognizer.adjust_for_ambient_noise(source, duration=0.5)\n",
    "            audio = recognizer.listen(source)\n",
    "            print(\"Recognizing...\")\n",
    "            try:\n",
    "                user_text = recognizer.recognize_google(audio)\n",
    "                print(f\"question: {user_text}\")\n",
    "            except Exception as e:\n",
    "                print(f\"Could not recognize speech: {e}\")\n",
    "                continue\n",
    "\n",
    "            # Get Freddy's answer\n",
    "            try:\n",
    "                answer = get_freddy_answer(user_text)\n",
    "                answer_clean = clean_text(answer)\n",
    "                print(f\"bot answer: {answer_clean}\")\n",
    "                speak(answer_clean)\n",
    "            except Exception as e:\n",
    "                print(f\"LLM error: {e}\")\n",
    "            time.sleep(0.5)\n",
    "    except KeyboardInterrupt:\n",
    "        print(\"\\nExiting Freddy voice assistant.\")\n",
    "        break\n"
   ]
  },
  {
   "cell_type": "code",
   "execution_count": null,
   "id": "1e07f28e",
   "metadata": {},
   "outputs": [],
   "source": []
  }
 ],
 "metadata": {
  "kernelspec": {
   "display_name": "venv",
   "language": "python",
   "name": "python3"
  },
  "language_info": {
   "codemirror_mode": {
    "name": "ipython",
    "version": 3
   },
   "file_extension": ".py",
   "mimetype": "text/x-python",
   "name": "python",
   "nbconvert_exporter": "python",
   "pygments_lexer": "ipython3",
   "version": "3.13.5"
  }
 },
 "nbformat": 4,
 "nbformat_minor": 5
}
